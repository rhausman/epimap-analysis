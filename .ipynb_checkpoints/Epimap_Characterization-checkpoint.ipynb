{
 "cells": [
  {
   "cell_type": "code",
   "execution_count": 1,
   "id": "compact-america",
   "metadata": {},
   "outputs": [],
   "source": [
    "import os\n",
    "from os import path\n",
    "import pandas as pd"
   ]
  },
  {
   "cell_type": "code",
   "execution_count": null,
   "id": "dried-nigeria",
   "metadata": {},
   "outputs": [],
   "source": []
  },
  {
   "cell_type": "code",
   "execution_count": 2,
   "id": "modified-combine",
   "metadata": {},
   "outputs": [],
   "source": [
    "# PATHS AND CONSTANTS\n",
    "\n",
    "OUR_DATA_PATH = \"/gpfs/slayman/pi/gerstein/cjy23/project/PsycENCODE/analysis/network/results/combined\" \n",
    "# /results/original for data separated by chromosone\n",
    "\n",
    "EPIMAP_DATA_PATH = \"/gpfs/slayman/pi/gerstein/cjy23/project/PsycENCODE/data/epimap_bygroup\""
   ]
  },
  {
   "cell_type": "markdown",
   "id": "numerous-burton",
   "metadata": {},
   "source": [
    "## OBJECTIVES\n",
    "1. Count # of unique genes in epimap data\n",
    "2. Calculate overlap between networks of different tissues in the epimap data\n",
    "3. What does \"brain\" mean in the context of this epimap data? Look at the paper\n",
    "\n",
    "Can use os.system()"
   ]
  },
  {
   "cell_type": "markdown",
   "id": "animated-angel",
   "metadata": {},
   "source": [
    "## 1: Unique genes in epimap data\n",
    "* By Tissue\n",
    "* Total"
   ]
  },
  {
   "cell_type": "code",
   "execution_count": 20,
   "id": "strategic-armenia",
   "metadata": {},
   "outputs": [],
   "source": [
    "gene_set = set()\n",
    "gene_counts = {}\n",
    "for file in os.listdir(EPIMAP_DATA_PATH):\n",
    "    if file[-3:] == 'tsv':\n",
    "        a = set(pd.read_table(path.join(EPIMAP_DATA_PATH,file),delimiter='\\t' )['gene'].tolist())\n",
    "        gene_set = gene_set.union(a)\n",
    "        gene_counts[file[:-4]] = len(a)"
   ]
  },
  {
   "cell_type": "code",
   "execution_count": 21,
   "id": "every-disabled",
   "metadata": {},
   "outputs": [
    {
     "data": {
      "text/plain": [
       "19028"
      ]
     },
     "execution_count": 21,
     "metadata": {},
     "output_type": "execute_result"
    }
   ],
   "source": [
    "len(gene_set)"
   ]
  },
  {
   "cell_type": "code",
   "execution_count": 22,
   "id": "aging-school",
   "metadata": {},
   "outputs": [],
   "source": [
    "with open('all_genes.txt', 'w') as ff:\n",
    "    ff.write(\"\\n\".join(list(gene_set)))\n",
    "with open('n_genes_by_region.txt','w') as ff:\n",
    "    ff.write(\"total: \"+ str(len(gene_set))+'\\n')\n",
    "    for key, l in gene_counts.items():\n",
    "        ff.write(key + \": \" + str(l)+\"\\n\")"
   ]
  },
  {
   "cell_type": "code",
   "execution_count": null,
   "id": "beneficial-treaty",
   "metadata": {},
   "outputs": [],
   "source": []
  }
 ],
 "metadata": {
  "kernelspec": {
   "display_name": "Python 3",
   "language": "python",
   "name": "python3"
  },
  "language_info": {
   "codemirror_mode": {
    "name": "ipython",
    "version": 3
   },
   "file_extension": ".py",
   "mimetype": "text/x-python",
   "name": "python",
   "nbconvert_exporter": "python",
   "pygments_lexer": "ipython3",
   "version": "3.6.8"
  }
 },
 "nbformat": 4,
 "nbformat_minor": 5
}
