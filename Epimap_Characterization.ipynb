{
 "cells": [
  {
   "cell_type": "code",
   "execution_count": 1,
   "id": "compact-america",
   "metadata": {},
   "outputs": [],
   "source": [
    "import os\n",
    "from os import path\n",
    "import pandas as pd"
   ]
  },
  {
   "cell_type": "code",
   "execution_count": null,
   "id": "dried-nigeria",
   "metadata": {},
   "outputs": [],
   "source": []
  },
  {
   "cell_type": "code",
   "execution_count": 8,
   "id": "modified-combine",
   "metadata": {},
   "outputs": [],
   "source": [
    "# PATHS AND CONSTANTS\n",
    "\n",
    "OUR_DATA_PATH = \"/gpfs/slayman/pi/gerstein/cjy23/project/PsycENCODE/analysis/network/results/combined\" \n",
    "# /results/original for data separated by chromosone\n",
    "\n",
    "EPIMAP_DATA_PATH = \"/gpfs/slayman/pi/gerstein/rah86/project/PsycENCODE/data/epimap_bygroup_bed\"\n",
    "EPIMAP_DATA_SORTED_PATH = \"/gpfs/slayman/pi/gerstein/rah86/project/PsycENCODE/data/sorted_epimap_bygroup_bed\""
   ]
  },
  {
   "cell_type": "markdown",
   "id": "numerous-burton",
   "metadata": {},
   "source": [
    "## OBJECTIVES\n",
    "1. Count # of unique genes in epimap data\n",
    "2. Calculate overlap between networks of different tissues in the epimap data\n",
    "3. What does \"brain\" mean in the context of this epimap data? Look at the paper\n",
    "\n",
    "Can use os.system()"
   ]
  },
  {
   "cell_type": "markdown",
   "id": "animated-angel",
   "metadata": {},
   "source": [
    "## 1: Unique genes in epimap data\n",
    "* By Tissue\n",
    "* Total"
   ]
  },
  {
   "cell_type": "code",
   "execution_count": 20,
   "id": "strategic-armenia",
   "metadata": {},
   "outputs": [],
   "source": [
    "gene_set = set()\n",
    "gene_counts = {}\n",
    "for file in os.listdir(EPIMAP_DATA_PATH):\n",
    "    if file[-3:] == 'tsv':\n",
    "        a = set(pd.read_table(path.join(EPIMAP_DATA_PATH,file),delimiter='\\t' )['gene'].tolist())\n",
    "        gene_set = gene_set.union(a)\n",
    "        gene_counts[file[:-4]] = len(a)"
   ]
  },
  {
   "cell_type": "code",
   "execution_count": 21,
   "id": "every-disabled",
   "metadata": {},
   "outputs": [
    {
     "data": {
      "text/plain": [
       "19028"
      ]
     },
     "execution_count": 21,
     "metadata": {},
     "output_type": "execute_result"
    }
   ],
   "source": [
    "len(gene_set)"
   ]
  },
  {
   "cell_type": "code",
   "execution_count": 22,
   "id": "moderate-prediction",
   "metadata": {},
   "outputs": [],
   "source": [
    "with open('all_genes.txt', 'w') as ff:\n",
    "    ff.write(\"\\n\".join(list(gene_set)))\n",
    "with open('n_genes_by_region.txt','w') as ff:\n",
    "    ff.write(\"total: \"+ str(len(gene_set))+'\\n')\n",
    "    for key, l in gene_counts.items():\n",
    "        ff.write(key + \": \" + str(l)+\"\\n\")"
   ]
  },
  {
   "cell_type": "markdown",
   "id": "reverse-musical",
   "metadata": {},
   "source": [
    "## 2. What does \"Brain\" Mean in the epimap data?\n",
    "* Brain is an amalgamation of the measurement of many brain regions accross gender, cell type, etc\n",
    "* Data is available by going [here](https://cboix.shinyapps.io/epimap_vis/) and clicking on the `Brain` folder on the left"
   ]
  },
  {
   "cell_type": "markdown",
   "id": "adolescent-agent",
   "metadata": {},
   "source": [
    "## 3. Overlap between the networks of different tissues in epimap data"
   ]
  },
  {
   "cell_type": "code",
   "execution_count": 26,
   "id": "painted-rubber",
   "metadata": {},
   "outputs": [],
   "source": [
    "import plotly.express as px\n",
    "import numpy as np"
   ]
  },
  {
   "cell_type": "code",
   "execution_count": 29,
   "id": "given-maintenance",
   "metadata": {},
   "outputs": [
    {
     "name": "stdout",
     "output_type": "stream",
     "text": [
      "ERROR  epimap_pancreas.bed all_ccres_epimap.bed\n",
      "ERROR  epimap_es_deriv.bed all_ccres_epimap.bed\n",
      "ERROR  epimap_mesench.bed all_ccres_epimap.bed\n",
      "ERROR  epimap_pns.bed all_ccres_epimap.bed\n",
      "ERROR  epimap_adipose.bed all_ccres_epimap.bed\n",
      "ERROR  epimap_endocrine.bed all_ccres_epimap.bed\n",
      "ERROR  epimap_digestive.bed all_ccres_epimap.bed\n",
      "ERROR  all_ccres_epimap.bed epimap_ipsc.bed\n",
      "ERROR  all_ccres_epimap.bed epimap_lymphoblastoid.bed\n",
      "ERROR  all_ccres_epimap.bed epimap_hsc_b_cell.bed\n",
      "ERROR  all_ccres_epimap.bed epimap_muscle.bed\n",
      "ERROR  all_ccres_epimap.bed epimap_myosat.bed\n",
      "ERROR  all_ccres_epimap.bed epimap_stromal.bed\n",
      "ERROR  all_ccres_epimap.bed epimap_bone.bed\n",
      "ERROR  all_ccres_epimap.bed epimap_urinary.bed\n",
      "ERROR  all_ccres_epimap.bed epimap_lung.bed\n",
      "ERROR  all_ccres_epimap.bed epimap_neurosph.bed\n",
      "ERROR  all_ccres_epimap.bed epimap_kidney.bed\n",
      "ERROR  all_ccres_epimap.bed epimap_placenta_eem.bed\n",
      "ERROR  all_ccres_epimap.bed epimap_reproductive.bed\n",
      "ERROR  all_ccres_epimap.bed epimap_heart.bed\n",
      "ERROR  all_ccres_epimap.bed epimap_liver.bed\n",
      "ERROR  all_ccres_epimap.bed epimap_epithelial.bed\n",
      "ERROR  all_ccres_epimap.bed epimap_blood_t_cell.bed\n",
      "ERROR  all_ccres_epimap.bed epimap_esc.bed\n",
      "ERROR  all_ccres_epimap.bed epimap_eye.bed\n",
      "ERROR  all_ccres_epimap.bed epimap_spleen.bed\n",
      "ERROR  all_ccres_epimap.bed epimap_brain.bed\n",
      "ERROR  all_ccres_epimap.bed epimap_thymus.bed\n",
      "ERROR  all_ccres_epimap.bed epimap_smmuscle.bed\n",
      "ERROR  all_ccres_epimap.bed epimap_endothelial.bed\n"
     ]
    }
   ],
   "source": [
    "files = os.listdir(EPIMAP_DATA_PATH)\n",
    "files.remove('all_ccres_epimap.bed') # not applicable\n",
    "\n",
    "matrix = np.eye(N=len(files)) * 0.5 # eye because overlap with self is always 1. ... 0.5 because I will add to self\n",
    "#name_to_ix = dict(zip(files,list(range(len(files)))))\n",
    "for i, file1 in enumerate(files):\n",
    "    for i2 in range(i+1, len(files)):\n",
    "        file2 = files[i2]\n",
    "        #print(file1, ' ', file2)\n",
    "        # get jaccard info, save to tmp file\n",
    "        os.system('bedtools jaccard -a {file1} -b {file2}'.format(file1=os.path.join(EPIMAP_DATA_SORTED_PATH,file1) , file2=os.path.join(EPIMAP_DATA_SORTED_PATH,file2)) + ' > tmp')\n",
    "        # read result out of tmp file\n",
    "        # other info available: intersection\tunion-intersection\tjaccard\tn_intersections\n",
    "        try:\n",
    "            jaccard = pd.read_table('tmp',delimiter='\\t' )['jaccard'].item()\n",
    "        except:\n",
    "            print('ERROR ', file1, file2)\n",
    "            jaccard = 0\n",
    "        matrix[i,i2] = jaccard # calculation here\n",
    "\n",
    "df = pd.DataFrame(matrix, index = files, columns = files)\n",
    "df = df+df.T # reflect over diagonal"
   ]
  },
  {
   "cell_type": "code",
   "execution_count": 31,
   "id": "renewable-catch",
   "metadata": {},
   "outputs": [],
   "source": [
    "px.imshow(df).write_html('./similarity_matrix.html')"
   ]
  },
  {
   "cell_type": "code",
   "execution_count": 20,
   "id": "thrown-yugoslavia",
   "metadata": {},
   "outputs": [
    {
     "data": {
      "text/plain": [
       "0"
      ]
     },
     "execution_count": 20,
     "metadata": {},
     "output_type": "execute_result"
    }
   ],
   "source": [
    "os.system('bedtools jaccard -a {file1} -b {file2}'.format(file1=os.path.join(EPIMAP_DATA_SORTED_PATH,file1) , file2=os.path.join(EPIMAP_DATA_SORTED_PATH,file2)) + ' > tmp')"
   ]
  },
  {
   "cell_type": "code",
   "execution_count": 15,
   "id": "lovely-adolescent",
   "metadata": {},
   "outputs": [],
   "source": [
    "z='bedtools jaccard -a {file1} -b {file2}'.format(file1=os.path.join(EPIMAP_DATA_SORTED_PATH,file1) , file2=os.path.join(EPIMAP_DATA_SORTED_PATH,file2))"
   ]
  },
  {
   "cell_type": "code",
   "execution_count": 16,
   "id": "professional-tamil",
   "metadata": {},
   "outputs": [
    {
     "data": {
      "text/plain": [
       "'bedtools jaccard -a /gpfs/slayman/pi/gerstein/rah86/project/PsycENCODE/data/sorted_epimap_bygroup_bed/epimap_endothelial.bed -b /gpfs/slayman/pi/gerstein/rah86/project/PsycENCODE/data/sorted_epimap_bygroup_bed/epimap_endothelial.bed'"
      ]
     },
     "execution_count": 16,
     "metadata": {},
     "output_type": "execute_result"
    }
   ],
   "source": [
    "z"
   ]
  },
  {
   "cell_type": "code",
   "execution_count": 14,
   "id": "noble-rachel",
   "metadata": {},
   "outputs": [
    {
     "data": {
      "text/plain": [
       "'/gpfs/slayman/pi/gerstein/rah86/project/PsycENCODE/data/sorted_epimap_bygroup_bed/epimap_endothelial.bed'"
      ]
     },
     "execution_count": 14,
     "metadata": {},
     "output_type": "execute_result"
    }
   ],
   "source": [
    "os.path.join(EPIMAP_DATA_SORTED_PATH,file1)"
   ]
  },
  {
   "cell_type": "code",
   "execution_count": 25,
   "id": "correct-aside",
   "metadata": {},
   "outputs": [
    {
     "data": {
      "text/html": [
       "<div>\n",
       "<style scoped>\n",
       "    .dataframe tbody tr th:only-of-type {\n",
       "        vertical-align: middle;\n",
       "    }\n",
       "\n",
       "    .dataframe tbody tr th {\n",
       "        vertical-align: top;\n",
       "    }\n",
       "\n",
       "    .dataframe thead th {\n",
       "        text-align: right;\n",
       "    }\n",
       "</style>\n",
       "<table border=\"1\" class=\"dataframe\">\n",
       "  <thead>\n",
       "    <tr style=\"text-align: right;\">\n",
       "      <th></th>\n",
       "      <th>intersection</th>\n",
       "      <th>union-intersection</th>\n",
       "      <th>jaccard</th>\n",
       "      <th>n_intersections</th>\n",
       "    </tr>\n",
       "  </thead>\n",
       "  <tbody>\n",
       "    <tr>\n",
       "      <th>0</th>\n",
       "      <td>53922869</td>\n",
       "      <td>53922869</td>\n",
       "      <td>1</td>\n",
       "      <td>189738</td>\n",
       "    </tr>\n",
       "  </tbody>\n",
       "</table>\n",
       "</div>"
      ],
      "text/plain": [
       "   intersection  union-intersection  jaccard  n_intersections\n",
       "0      53922869            53922869        1           189738"
      ]
     },
     "execution_count": 25,
     "metadata": {},
     "output_type": "execute_result"
    }
   ],
   "source": [
    "pd.read_table('tmp',delimiter='\\t' )"
   ]
  },
  {
   "cell_type": "code",
   "execution_count": null,
   "id": "three-jones",
   "metadata": {},
   "outputs": [],
   "source": []
  }
 ],
 "metadata": {
  "kernelspec": {
   "display_name": "Python 3",
   "language": "python",
   "name": "python3"
  },
  "language_info": {
   "codemirror_mode": {
    "name": "ipython",
    "version": 3
   },
   "file_extension": ".py",
   "mimetype": "text/x-python",
   "name": "python",
   "nbconvert_exporter": "python",
   "pygments_lexer": "ipython3",
   "version": "3.6.8"
  }
 },
 "nbformat": 4,
 "nbformat_minor": 5
}
